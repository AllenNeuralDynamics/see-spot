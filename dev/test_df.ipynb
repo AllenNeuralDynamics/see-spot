{
 "cells": [
  {
   "cell_type": "code",
   "execution_count": 3,
   "id": "d775a2a7",
   "metadata": {},
   "outputs": [],
   "source": [
    "import polars as pl\n",
    "from pathlib import Path"
   ]
  },
  {
   "cell_type": "code",
   "execution_count": 16,
   "id": "55756b41",
   "metadata": {},
   "outputs": [],
   "source": [
    "data_dir = Path(\"/s3-cache/aind-open-data\")\n",
    "f = data_dir / \"HCR_749315_2025-05-08_14-00-00_processed_2025-05-17_22-15-31\" / \"HCR_749315_2025-05-08_14-00-00_processed_2025-05-17_22-15-31.parquet\""
   ]
  },
  {
   "cell_type": "markdown",
   "id": "d00987c3",
   "metadata": {},
   "source": [
    "# Explore DF"
   ]
  },
  {
   "cell_type": "code",
   "execution_count": 17,
   "id": "b77f78c4",
   "metadata": {},
   "outputs": [
    {
     "data": {
      "text/html": [
       "<div><style>\n",
       ".dataframe > thead > tr,\n",
       ".dataframe > tbody > tr {\n",
       "  text-align: right;\n",
       "  white-space: pre-wrap;\n",
       "}\n",
       "</style>\n",
       "<small>shape: (8_059_238, 33)</small><table border=\"1\" class=\"dataframe\"><thead><tr><th>chan</th><th>chan_spot_id</th><th>cell_id</th><th>round</th><th>z</th><th>y</th><th>x</th><th>z_center</th><th>y_center</th><th>x_center</th><th>dist</th><th>r</th><th>chan_488_bg</th><th>chan_488_fg</th><th>chan_514_bg</th><th>chan_514_fg</th><th>chan_561_bg</th><th>chan_561_fg</th><th>chan_594_bg</th><th>chan_594_fg</th><th>chan_638_bg</th><th>chan_638_fg</th><th>chan_488_intensity</th><th>chan_514_intensity</th><th>chan_561_intensity</th><th>chan_594_intensity</th><th>chan_638_intensity</th><th>over_thresh</th><th>unmixed_chan</th><th>dye_line_dist_ratio</th><th>valid_spot</th><th>unmixed_removed</th><th>spot_id</th></tr><tr><td>str</td><td>i64</td><td>i64</td><td>str</td><td>i64</td><td>i64</td><td>i64</td><td>f64</td><td>f64</td><td>f64</td><td>f64</td><td>f64</td><td>f64</td><td>f64</td><td>f64</td><td>f64</td><td>f64</td><td>f64</td><td>f64</td><td>f64</td><td>f64</td><td>f64</td><td>f64</td><td>f64</td><td>f64</td><td>f64</td><td>f64</td><td>bool</td><td>str</td><td>f32</td><td>bool</td><td>bool</td><td>i64</td></tr></thead><tbody><tr><td>&quot;488&quot;</td><td>1</td><td>9</td><td>&quot;4&quot;</td><td>74</td><td>990</td><td>5648</td><td>0.011567</td><td>-0.116883</td><td>0.253705</td><td>0.279574</td><td>0.7274562</td><td>152.0</td><td>284.6992</td><td>102.0</td><td>117.203255</td><td>160.0</td><td>184.08943</td><td>102.0</td><td>120.82927</td><td>112.04</td><td>127.5935</td><td>132.6992</td><td>15.203255</td><td>24.08943</td><td>18.82927</td><td>15.5535</td><td>true</td><td>&quot;488&quot;</td><td>1.144353</td><td>false</td><td>false</td><td>0</td></tr><tr><td>&quot;488&quot;</td><td>2</td><td>9</td><td>&quot;4&quot;</td><td>77</td><td>1018</td><td>5694</td><td>-0.076886</td><td>-0.153813</td><td>0.030761</td><td>0.174689</td><td>0.608358</td><td>148.0</td><td>189.0</td><td>105.0</td><td>119.94309</td><td>163.0</td><td>182.30081</td><td>99.0</td><td>106.82114</td><td>115.0</td><td>129.95935</td><td>41.0</td><td>14.94309</td><td>19.30081</td><td>7.82114</td><td>14.95935</td><td>false</td><td>&quot;488&quot;</td><td>1.080512</td><td>false</td><td>false</td><td>1</td></tr><tr><td>&quot;488&quot;</td><td>3</td><td>9</td><td>&quot;4&quot;</td><td>78</td><td>977</td><td>5657</td><td>-0.106324</td><td>0.243913</td><td>0.058419</td><td>0.272418</td><td>0.437502</td><td>164.0</td><td>229.53659</td><td>106.0</td><td>125.88618</td><td>181.04</td><td>249.20325</td><td>110.0</td><td>175.813</td><td>119.0</td><td>140.99187</td><td>65.53659</td><td>19.88618</td><td>68.16325</td><td>65.813</td><td>21.99187</td><td>true</td><td>null</td><td>null</td><td>null</td><td>true</td><td>2</td></tr><tr><td>&quot;488&quot;</td><td>4</td><td>9</td><td>&quot;4&quot;</td><td>78</td><td>1005</td><td>5653</td><td>-0.210846</td><td>-0.385967</td><td>-0.327366</td><td>0.548265</td><td>0.7405667</td><td>153.0</td><td>217.21138</td><td>103.0</td><td>112.84553</td><td>159.0</td><td>185.04878</td><td>98.0</td><td>108.0</td><td>116.0</td><td>128.33333</td><td>64.21138</td><td>9.84553</td><td>26.04878</td><td>10.0</td><td>12.33333</td><td>false</td><td>&quot;594&quot;</td><td>1.040007</td><td>false</td><td>false</td><td>3</td></tr><tr><td>&quot;488&quot;</td><td>5</td><td>9</td><td>&quot;4&quot;</td><td>76</td><td>984</td><td>5653</td><td>-0.630952</td><td>-0.771316</td><td>1.0992422</td><td>1.4836987</td><td>0.58879</td><td>168.0</td><td>255.30081</td><td>107.0</td><td>132.03252</td><td>177.04</td><td>268.20325</td><td>114.0</td><td>204.34146</td><td>118.0</td><td>141.13008</td><td>87.30081</td><td>25.03252</td><td>91.16325</td><td>90.34146</td><td>23.13008</td><td>false</td><td>&quot;594&quot;</td><td>6.089427</td><td>false</td><td>false</td><td>4</td></tr><tr><td>&hellip;</td><td>&hellip;</td><td>&hellip;</td><td>&hellip;</td><td>&hellip;</td><td>&hellip;</td><td>&hellip;</td><td>&hellip;</td><td>&hellip;</td><td>&hellip;</td><td>&hellip;</td><td>&hellip;</td><td>&hellip;</td><td>&hellip;</td><td>&hellip;</td><td>&hellip;</td><td>&hellip;</td><td>&hellip;</td><td>&hellip;</td><td>&hellip;</td><td>&hellip;</td><td>&hellip;</td><td>&hellip;</td><td>&hellip;</td><td>&hellip;</td><td>&hellip;</td><td>&hellip;</td><td>&hellip;</td><td>&hellip;</td><td>&hellip;</td><td>&hellip;</td><td>&hellip;</td><td>&hellip;</td></tr><tr><td>&quot;638&quot;</td><td>963741</td><td>44848</td><td>&quot;4&quot;</td><td>1332</td><td>6055</td><td>4651</td><td>0.314389</td><td>0.38617</td><td>-0.318292</td><td>0.590997</td><td>0.8337266</td><td>101.0</td><td>115.48781</td><td>91.0</td><td>94.796745</td><td>103.0</td><td>130.61789</td><td>95.0</td><td>100.52846</td><td>89.0</td><td>116.76423</td><td>14.48781</td><td>3.796745</td><td>27.61789</td><td>5.52846</td><td>27.76423</td><td>true</td><td>&quot;561&quot;</td><td>1.032534</td><td>false</td><td>false</td><td>8059233</td></tr><tr><td>&quot;638&quot;</td><td>963742</td><td>44848</td><td>&quot;4&quot;</td><td>1341</td><td>6034</td><td>4600</td><td>-0.133167</td><td>-0.312653</td><td>0.433892</td><td>0.5511329</td><td>0.748754</td><td>102.0</td><td>146.04065</td><td>91.0</td><td>99.69919</td><td>104.0</td><td>131.28455</td><td>98.0</td><td>118.796745</td><td>94.0</td><td>227.94308</td><td>44.04065</td><td>8.69919</td><td>27.28455</td><td>20.796745</td><td>133.94308</td><td>true</td><td>&quot;638&quot;</td><td>2.406289</td><td>false</td><td>false</td><td>8059234</td></tr><tr><td>&quot;638&quot;</td><td>963743</td><td>44848</td><td>&quot;4&quot;</td><td>1337</td><td>6039</td><td>4667</td><td>0.015931</td><td>0.054527</td><td>0.3945396</td><td>0.398608</td><td>0.8690793</td><td>105.0</td><td>118.439026</td><td>93.0</td><td>98.13008</td><td>102.0</td><td>116.95935</td><td>97.0</td><td>105.95935</td><td>90.0</td><td>159.70732</td><td>13.439026</td><td>5.13008</td><td>14.95935</td><td>8.95935</td><td>69.70732</td><td>true</td><td>&quot;638&quot;</td><td>3.170991</td><td>false</td><td>false</td><td>8059235</td></tr><tr><td>&quot;638&quot;</td><td>963744</td><td>44853</td><td>&quot;4&quot;</td><td>1345</td><td>6089</td><td>5156</td><td>-0.315451</td><td>-0.297013</td><td>0.082289</td><td>0.441019</td><td>0.8567883</td><td>99.0</td><td>107.76423</td><td>91.0</td><td>97.17886</td><td>100.0</td><td>108.560974</td><td>94.0</td><td>99.29269</td><td>93.0</td><td>161.5691</td><td>8.76423</td><td>6.17886</td><td>8.560974</td><td>5.29269</td><td>68.5691</td><td>true</td><td>&quot;638&quot;</td><td>4.940802</td><td>true</td><td>false</td><td>8059236</td></tr><tr><td>&quot;638&quot;</td><td>963745</td><td>44853</td><td>&quot;4&quot;</td><td>1342</td><td>6060</td><td>5176</td><td>0.101496</td><td>-0.059616</td><td>0.292976</td><td>0.315737</td><td>0.767935</td><td>99.0</td><td>105.53658</td><td>91.0</td><td>95.02439</td><td>102.0</td><td>111.36585</td><td>95.0</td><td>98.902435</td><td>92.04</td><td>150.85365</td><td>6.53658</td><td>4.02439</td><td>9.36585</td><td>3.902435</td><td>58.81365</td><td>true</td><td>&quot;638&quot;</td><td>4.902931</td><td>true</td><td>false</td><td>8059237</td></tr></tbody></table></div>"
      ],
      "text/plain": [
       "shape: (8_059_238, 33)\n",
       "┌──────┬──────────────┬─────────┬───────┬───┬───────────────┬────────────┬───────────────┬─────────┐\n",
       "│ chan ┆ chan_spot_id ┆ cell_id ┆ round ┆ … ┆ dye_line_dist ┆ valid_spot ┆ unmixed_remov ┆ spot_id │\n",
       "│ ---  ┆ ---          ┆ ---     ┆ ---   ┆   ┆ _ratio        ┆ ---        ┆ ed            ┆ ---     │\n",
       "│ str  ┆ i64          ┆ i64     ┆ str   ┆   ┆ ---           ┆ bool       ┆ ---           ┆ i64     │\n",
       "│      ┆              ┆         ┆       ┆   ┆ f32           ┆            ┆ bool          ┆         │\n",
       "╞══════╪══════════════╪═════════╪═══════╪═══╪═══════════════╪════════════╪═══════════════╪═════════╡\n",
       "│ 488  ┆ 1            ┆ 9       ┆ 4     ┆ … ┆ 1.144353      ┆ false      ┆ false         ┆ 0       │\n",
       "│ 488  ┆ 2            ┆ 9       ┆ 4     ┆ … ┆ 1.080512      ┆ false      ┆ false         ┆ 1       │\n",
       "│ 488  ┆ 3            ┆ 9       ┆ 4     ┆ … ┆ null          ┆ null       ┆ true          ┆ 2       │\n",
       "│ 488  ┆ 4            ┆ 9       ┆ 4     ┆ … ┆ 1.040007      ┆ false      ┆ false         ┆ 3       │\n",
       "│ 488  ┆ 5            ┆ 9       ┆ 4     ┆ … ┆ 6.089427      ┆ false      ┆ false         ┆ 4       │\n",
       "│ …    ┆ …            ┆ …       ┆ …     ┆ … ┆ …             ┆ …          ┆ …             ┆ …       │\n",
       "│ 638  ┆ 963741       ┆ 44848   ┆ 4     ┆ … ┆ 1.032534      ┆ false      ┆ false         ┆ 8059233 │\n",
       "│ 638  ┆ 963742       ┆ 44848   ┆ 4     ┆ … ┆ 2.406289      ┆ false      ┆ false         ┆ 8059234 │\n",
       "│ 638  ┆ 963743       ┆ 44848   ┆ 4     ┆ … ┆ 3.170991      ┆ false      ┆ false         ┆ 8059235 │\n",
       "│ 638  ┆ 963744       ┆ 44853   ┆ 4     ┆ … ┆ 4.940802      ┆ true       ┆ false         ┆ 8059236 │\n",
       "│ 638  ┆ 963745       ┆ 44853   ┆ 4     ┆ … ┆ 4.902931      ┆ true       ┆ false         ┆ 8059237 │\n",
       "└──────┴──────────────┴─────────┴───────┴───┴───────────────┴────────────┴───────────────┴─────────┘"
      ]
     },
     "execution_count": 17,
     "metadata": {},
     "output_type": "execute_result"
    }
   ],
   "source": [
    "df = pl.read_parquet(f)\n",
    "df"
   ]
  },
  {
   "cell_type": "code",
   "execution_count": null,
   "id": "3b832852",
   "metadata": {},
   "outputs": [],
   "source": []
  },
  {
   "cell_type": "code",
   "execution_count": 18,
   "id": "72e31b4b",
   "metadata": {},
   "outputs": [
    {
     "data": {
      "text/html": [
       "<div><style>\n",
       ".dataframe > thead > tr,\n",
       ".dataframe > tbody > tr {\n",
       "  text-align: right;\n",
       "  white-space: pre-wrap;\n",
       "}\n",
       "</style>\n",
       "<small>shape: (2, 2)</small><table border=\"1\" class=\"dataframe\"><thead><tr><th>unmixed_removed</th><th>count</th></tr><tr><td>bool</td><td>u32</td></tr></thead><tbody><tr><td>false</td><td>5296771</td></tr><tr><td>true</td><td>2762467</td></tr></tbody></table></div>"
      ],
      "text/plain": [
       "shape: (2, 2)\n",
       "┌─────────────────┬─────────┐\n",
       "│ unmixed_removed ┆ count   │\n",
       "│ ---             ┆ ---     │\n",
       "│ bool            ┆ u32     │\n",
       "╞═════════════════╪═════════╡\n",
       "│ false           ┆ 5296771 │\n",
       "│ true            ┆ 2762467 │\n",
       "└─────────────────┴─────────┘"
      ]
     },
     "execution_count": 18,
     "metadata": {},
     "output_type": "execute_result"
    }
   ],
   "source": [
    "df[\"unmixed_removed\"].value_counts()"
   ]
  },
  {
   "cell_type": "markdown",
   "id": "949f3baf",
   "metadata": {},
   "source": [
    "## Investigate Sampling Bias\n",
    "\n",
    "Let's check the distribution of `unmixed_removed` and see why sampling might miss the `True` values."
   ]
  },
  {
   "cell_type": "code",
   "execution_count": 19,
   "id": "f18c9630",
   "metadata": {},
   "outputs": [
    {
     "name": "stdout",
     "output_type": "stream",
     "text": [
      "📊 Full Dataset Statistics:\n",
      "Total rows: 8,059,238\n",
      "unmixed_removed = True:  2,762,467 (34.277%)\n",
      "unmixed_removed = False: 5,296,771 (65.723%)\n",
      "\n",
      "🎲 Sampling Probability Analysis (sample size = 5,000):\n",
      "Probability all sampled are False: 0.000000\n",
      "Probability at least one True: 1.000000\n",
      "✅ GOOD PROBABILITY - Should usually see True values in samples\n"
     ]
    }
   ],
   "source": [
    "# Check the exact counts and percentages\n",
    "total_rows = df.height\n",
    "removed_true = df.filter(pl.col(\"unmixed_removed\") == True).height\n",
    "removed_false = df.filter(pl.col(\"unmixed_removed\") == False).height\n",
    "\n",
    "print(f\"📊 Full Dataset Statistics:\")\n",
    "print(f\"Total rows: {total_rows:,}\")\n",
    "print(f\"unmixed_removed = True:  {removed_true:,} ({removed_true/total_rows*100:.3f}%)\")\n",
    "print(f\"unmixed_removed = False: {removed_false:,} ({removed_false/total_rows*100:.3f}%)\")\n",
    "\n",
    "# Calculate probability of getting at least one True in a sample\n",
    "sample_size = 5000\n",
    "prob_all_false = (removed_false / total_rows) ** sample_size\n",
    "prob_at_least_one_true = 1 - prob_all_false\n",
    "\n",
    "print(f\"\\n🎲 Sampling Probability Analysis (sample size = {sample_size:,}):\")\n",
    "print(f\"Probability all sampled are False: {prob_all_false:.6f}\")\n",
    "print(f\"Probability at least one True: {prob_at_least_one_true:.6f}\")\n",
    "\n",
    "if prob_at_least_one_true < 0.95:\n",
    "    print(\"⚠️ LOW PROBABILITY - You'll often miss True values in random samples!\")\n",
    "else:\n",
    "    print(\"✅ GOOD PROBABILITY - Should usually see True values in samples\")"
   ]
  },
  {
   "cell_type": "markdown",
   "id": "871f4f0c",
   "metadata": {},
   "source": [
    "## Investigate NaN Filtering Issue\n",
    "\n",
    "You're right! With 34% being `unmixed_removed = True`, they should appear in samples. Let's check if these rows have NaN values that might be getting filtered out."
   ]
  },
  {
   "cell_type": "code",
   "execution_count": 20,
   "id": "98d7a3de",
   "metadata": {},
   "outputs": [
    {
     "name": "stdout",
     "output_type": "stream",
     "text": [
      "🔍 Checking for NaN patterns that might cause filtering...\n",
      "Dataset split:\n",
      "  unmixed_removed = True:  2,762,467 rows\n",
      "  unmixed_removed = False: 5,296,771 rows\n",
      "\n",
      "📊 Null Value Analysis:\n",
      "  unmixed_chan:\n",
      "    True group:  2,762,467 nulls (100.0%)\n",
      "    False group: 0 nulls (0.0%)\n",
      "  dye_line_dist_ratio:\n",
      "    True group:  2,762,467 nulls (100.0%)\n",
      "    False group: 0 nulls (0.0%)\n",
      "  valid_spot:\n",
      "    True group:  2,762,467 nulls (100.0%)\n",
      "    False group: 0 nulls (0.0%)\n"
     ]
    }
   ],
   "source": [
    "# Let's check for NaN patterns by unmixed_removed status\n",
    "print(\"🔍 Checking for NaN patterns that might cause filtering...\")\n",
    "\n",
    "# Get separate datasets\n",
    "df_removed_true = df.filter(pl.col(\"unmixed_removed\") == True)\n",
    "df_removed_false = df.filter(pl.col(\"unmixed_removed\") == False)\n",
    "\n",
    "print(f\"Dataset split:\")\n",
    "print(f\"  unmixed_removed = True:  {df_removed_true.height:,} rows\")\n",
    "print(f\"  unmixed_removed = False: {df_removed_false.height:,} rows\")\n",
    "\n",
    "# Check for null values in each group\n",
    "print(f\"\\n📊 Null Value Analysis:\")\n",
    "all_cols = df.columns\n",
    "\n",
    "for col in all_cols:\n",
    "    nulls_true = df_removed_true[col].null_count()\n",
    "    nulls_false = df_removed_false[col].null_count()\n",
    "    \n",
    "    total_true = df_removed_true.height\n",
    "    total_false = df_removed_false.height\n",
    "    \n",
    "    pct_true = (nulls_true / total_true * 100) if total_true > 0 else 0\n",
    "    pct_false = (nulls_false / total_false * 100) if total_false > 0 else 0\n",
    "    \n",
    "    # Only show columns with significant null differences\n",
    "    if abs(pct_true - pct_false) > 5 or pct_true > 50 or pct_false > 50:\n",
    "        print(f\"  {col}:\")\n",
    "        print(f\"    True group:  {nulls_true:,} nulls ({pct_true:.1f}%)\")\n",
    "        print(f\"    False group: {nulls_false:,} nulls ({pct_false:.1f}%)\")"
   ]
  },
  {
   "cell_type": "code",
   "execution_count": 21,
   "id": "e36e24e2",
   "metadata": {},
   "outputs": [
    {
     "name": "stdout",
     "output_type": "stream",
     "text": [
      "🧪 Found intensity columns: ['chan_488_intensity', 'chan_514_intensity', 'chan_561_intensity', 'chan_594_intensity', 'chan_638_intensity']\n",
      "\n",
      "🔍 Checking completeness for API required columns...\n",
      "Required columns: ['spot_id', 'chan', 'r', 'dist', 'unmixed_chan', 'reassigned', 'unmixed_removed']\n",
      "Intensity columns: 5 found\n",
      "\n",
      "⚠️ Columns with missing values in required fields:\n",
      "  unmixed_chan:\n",
      "    True group:  2,762,467 nulls (100.0%)\n",
      "    False group: 0 nulls (0.0%)\n",
      "    🚨 TRUE GROUP HAS MUCH MORE MISSING DATA!\n"
     ]
    }
   ],
   "source": [
    "# Check if the API filtering might be the issue\n",
    "# Let's simulate what the API does - check for required columns and missing values\n",
    "\n",
    "# These are the required columns from the API\n",
    "required_cols = ['spot_id', 'chan', 'r', 'dist', 'unmixed_chan', 'reassigned', 'unmixed_removed']\n",
    "\n",
    "# Check intensity columns (these are dynamically determined)\n",
    "intensity_cols = [col for col in df.columns if 'chan_' in col and '_intensity' in col]\n",
    "print(f\"🧪 Found intensity columns: {intensity_cols}\")\n",
    "\n",
    "all_needed_cols = required_cols + intensity_cols\n",
    "\n",
    "print(f\"\\n🔍 Checking completeness for API required columns...\")\n",
    "print(f\"Required columns: {required_cols}\")\n",
    "print(f\"Intensity columns: {len(intensity_cols)} found\")\n",
    "\n",
    "# Check if rows with unmixed_removed=True have missing values in required columns\n",
    "missing_by_group = {}\n",
    "\n",
    "for col in all_needed_cols:\n",
    "    if col in df.columns:\n",
    "        nulls_true = df_removed_true[col].null_count()\n",
    "        nulls_false = df_removed_false[col].null_count()\n",
    "        \n",
    "        if nulls_true > 0 or nulls_false > 0:\n",
    "            missing_by_group[col] = {\n",
    "                'true_nulls': nulls_true,\n",
    "                'false_nulls': nulls_false,\n",
    "                'true_pct': nulls_true / df_removed_true.height * 100,\n",
    "                'false_pct': nulls_false / df_removed_false.height * 100\n",
    "            }\n",
    "\n",
    "if missing_by_group:\n",
    "    print(f\"\\n⚠️ Columns with missing values in required fields:\")\n",
    "    for col, stats in missing_by_group.items():\n",
    "        print(f\"  {col}:\")\n",
    "        print(f\"    True group:  {stats['true_nulls']:,} nulls ({stats['true_pct']:.1f}%)\")\n",
    "        print(f\"    False group: {stats['false_nulls']:,} nulls ({stats['false_pct']:.1f}%)\")\n",
    "        \n",
    "        if stats['true_pct'] > stats['false_pct'] + 10:\n",
    "            print(f\"    🚨 TRUE GROUP HAS MUCH MORE MISSING DATA!\")\n",
    "else:\n",
    "    print(\"✅ No missing values found in required columns\")"
   ]
  },
  {
   "cell_type": "code",
   "execution_count": 22,
   "id": "d961d87d",
   "metadata": {},
   "outputs": [
    {
     "name": "stdout",
     "output_type": "stream",
     "text": [
      "🎯 Checking valid_spot filtering (this is applied by the API):\n",
      "valid_spot value counts:\n",
      "shape: (3, 2)\n",
      "┌────────────┬─────────┐\n",
      "│ valid_spot ┆ count   │\n",
      "│ ---        ┆ ---     │\n",
      "│ bool       ┆ u32     │\n",
      "╞════════════╪═════════╡\n",
      "│ null       ┆ 2762467 │\n",
      "│ true       ┆ 1742904 │\n",
      "│ false      ┆ 3553867 │\n",
      "└────────────┴─────────┘\n",
      "\n",
      "📊 Cross-tabulation: unmixed_removed vs valid_spot\n",
      "shape: (3, 3)\n",
      "┌─────────────────┬────────────┬─────────┐\n",
      "│ unmixed_removed ┆ valid_spot ┆ count   │\n",
      "│ ---             ┆ ---        ┆ ---     │\n",
      "│ bool            ┆ bool       ┆ u32     │\n",
      "╞═════════════════╪════════════╪═════════╡\n",
      "│ false           ┆ false      ┆ 3553867 │\n",
      "│ false           ┆ true       ┆ 1742904 │\n",
      "│ true            ┆ null       ┆ 2762467 │\n",
      "└─────────────────┴────────────┴─────────┘\n",
      "\n",
      "🧮 After valid_spot filtering:\n",
      "  unmixed_removed = True & valid_spot = True:  0\n",
      "  unmixed_removed = False & valid_spot = True: 1,742,904\n",
      "  Total valid spots: 1,742,904\n",
      "  Percentage of valid spots that are unmixed_removed = True: 0.00%\n",
      "  🚨 FOUND THE ISSUE! Only 0.00% of valid spots have unmixed_removed = True\n",
      "  This explains why you rarely see them in samples!\n"
     ]
    }
   ],
   "source": [
    "# Let's check the valid_spot filter that the API applies\n",
    "print(f\"🎯 Checking valid_spot filtering (this is applied by the API):\")\n",
    "print(f\"valid_spot value counts:\")\n",
    "print(df[\"valid_spot\"].value_counts())\n",
    "\n",
    "# Check valid_spot by unmixed_removed status\n",
    "valid_by_removed = df.group_by([\"unmixed_removed\", \"valid_spot\"]).agg(pl.len().alias(\"count\"))\n",
    "print(f\"\\n📊 Cross-tabulation: unmixed_removed vs valid_spot\")\n",
    "print(valid_by_removed.sort([\"unmixed_removed\", \"valid_spot\"]))\n",
    "\n",
    "# Calculate the impact\n",
    "valid_true_group = df.filter((pl.col(\"unmixed_removed\") == True) & (pl.col(\"valid_spot\") == True)).height\n",
    "valid_false_group = df.filter((pl.col(\"unmixed_removed\") == False) & (pl.col(\"valid_spot\") == True)).height\n",
    "\n",
    "total_valid = valid_true_group + valid_false_group\n",
    "\n",
    "print(f\"\\n🧮 After valid_spot filtering:\")\n",
    "print(f\"  unmixed_removed = True & valid_spot = True:  {valid_true_group:,}\")\n",
    "print(f\"  unmixed_removed = False & valid_spot = True: {valid_false_group:,}\")\n",
    "print(f\"  Total valid spots: {total_valid:,}\")\n",
    "\n",
    "if total_valid > 0:\n",
    "    pct_true_in_valid = valid_true_group / total_valid * 100\n",
    "    print(f\"  Percentage of valid spots that are unmixed_removed = True: {pct_true_in_valid:.2f}%\")\n",
    "    \n",
    "    if pct_true_in_valid < 1:\n",
    "        print(f\"  🚨 FOUND THE ISSUE! Only {pct_true_in_valid:.2f}% of valid spots have unmixed_removed = True\")\n",
    "        print(f\"  This explains why you rarely see them in samples!\")\n",
    "    else:\n",
    "        print(f\"  ✅ Should see unmixed_removed = True in samples with {pct_true_in_valid:.1f}% probability\")\n",
    "else:\n",
    "    print(\"  ⚠️ No valid spots found!\")"
   ]
  },
  {
   "cell_type": "markdown",
   "id": "70287216",
   "metadata": {},
   "source": [
    "## Test Sampling with Different Filters\n",
    "\n",
    "Let's test sampling with and without the `valid_spot` filter to confirm this is the issue:"
   ]
  },
  {
   "cell_type": "code",
   "execution_count": null,
   "id": "d6c63759",
   "metadata": {},
   "outputs": [],
   "source": [
    "# Test 1: Sample from full dataset (no filters)\n",
    "print(\"🎲 Test 1: Sampling from FULL dataset (no filters)\")\n",
    "sample_full = df.sample(n=5000, seed=42)\n",
    "sample_full_counts = sample_full[\"unmixed_removed\"].value_counts()\n",
    "print(\"Sample results:\")\n",
    "print(sample_full_counts)\n",
    "\n",
    "# Test 2: Sample from valid_spot filtered dataset (like API does)\n",
    "print(f\"\\n🎲 Test 2: Sampling from VALID_SPOT filtered dataset (like API)\")\n",
    "df_valid = df.filter(pl.col(\"valid_spot\") == True)\n",
    "if df_valid.height > 0:\n",
    "    sample_size = min(5000, df_valid.height)\n",
    "    sample_valid = df_valid.sample(n=sample_size, seed=42)\n",
    "    sample_valid_counts = sample_valid[\"unmixed_removed\"].value_counts()\n",
    "    print(\"Sample results:\")\n",
    "    print(sample_valid_counts)\n",
    "else:\n",
    "    print(\"No valid spots found!\")\n",
    "\n",
    "# Test 3: Sample ensuring we get both types (stratified sampling)\n",
    "print(f\"\\n🎲 Test 3: STRATIFIED sampling (force both types)\")\n",
    "if df_valid.height > 0:\n",
    "    # Get some of each type\n",
    "    df_valid_true = df_valid.filter(pl.col(\"unmixed_removed\") == True)\n",
    "    df_valid_false = df_valid.filter(pl.col(\"unmixed_removed\") == False)\n",
    "    \n",
    "    # Sample proportionally or at least get some of each\n",
    "    if df_valid_true.height > 0 and df_valid_false.height > 0:\n",
    "        n_true = min(1000, df_valid_true.height)  # At least 1000 or all available\n",
    "        n_false = min(4000, df_valid_false.height)  # Rest false\n",
    "        \n",
    "        sample_true = df_valid_true.sample(n=n_true, seed=42)\n",
    "        sample_false = df_valid_false.sample(n=n_false, seed=42)\n",
    "        \n",
    "        sample_stratified = pl.concat([sample_true, sample_false])\n",
    "        sample_stratified_counts = sample_stratified[\"unmixed_removed\"].value_counts()\n",
    "        print(\"Stratified sample results:\")\n",
    "        print(sample_stratified_counts)\n",
    "    else:\n",
    "        print(\"Cannot create stratified sample - one group is empty\")\n",
    "else:\n",
    "    print(\"No valid spots for stratified sampling!\")"
   ]
  },
  {
   "cell_type": "markdown",
   "id": "02e8cc84",
   "metadata": {},
   "source": [
    "# API requests"
   ]
  },
  {
   "cell_type": "code",
   "execution_count": null,
   "id": "a4e610f2",
   "metadata": {},
   "outputs": [],
   "source": [
    "import requests\n",
    "import pandas as pd\n",
    "import numpy as np\n",
    "import json\n",
    "import matplotlib.pyplot as plt\n",
    "import seaborn as sns\n",
    "from typing import Dict, List, Any\n",
    "\n",
    "# Set up plotting style\n",
    "plt.style.use('default')\n",
    "sns.set_palette(\"husl\")"
   ]
  },
  {
   "cell_type": "code",
   "execution_count": null,
   "id": "d3ed2b1e",
   "metadata": {},
   "outputs": [],
   "source": [
    "# API Configuration\n",
    "BASE_URL = \"http://localhost:9999\"  # Adjust port if different\n",
    "API_ENDPOINT = f\"{BASE_URL}/api/real_spots_data\"\n",
    "\n",
    "# Request parameters\n",
    "params = {\n",
    "    \"sample_size\": 5000,        # Number of spots to sample\n",
    "    \"force_refresh\": False      # Set to True to bypass cache\n",
    "}\n",
    "\n",
    "print(f\"API Endpoint: {API_ENDPOINT}\")\n",
    "print(f\"Parameters: {params}\")"
   ]
  }
 ],
 "metadata": {
  "kernelspec": {
   "display_name": ".venv (3.11.11)",
   "language": "python",
   "name": "python3"
  },
  "language_info": {
   "codemirror_mode": {
    "name": "ipython",
    "version": 3
   },
   "file_extension": ".py",
   "mimetype": "text/x-python",
   "name": "python",
   "nbconvert_exporter": "python",
   "pygments_lexer": "ipython3",
   "version": "3.11.11"
  }
 },
 "nbformat": 4,
 "nbformat_minor": 5
}
